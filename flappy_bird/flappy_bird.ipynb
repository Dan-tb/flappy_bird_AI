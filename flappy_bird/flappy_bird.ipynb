{
 "cells": [
  {
   "cell_type": "code",
   "execution_count": 1,
   "id": "cfd499b4",
   "metadata": {},
   "outputs": [],
   "source": [
    "# importing the necessary libraries\n",
    "import gym\n",
    "import numpy as np\n",
    "from stable_baselines3 import DQN,PPO\n",
    "from stable_baselines3.common import env_checker\n",
    "from gym import Env, spaces\n",
    "import mss\n",
    "import pydirectinput\n",
    "import cv2\n",
    "import time\n",
    "import matplotlib.pyplot as plt\n",
    "import pytesseract\n",
    "from stable_baselines3.common.callbacks import BaseCallback\n",
    "import os"
   ]
  },
  {
   "cell_type": "code",
   "execution_count": 2,
   "id": "ad6b7db5",
   "metadata": {},
   "outputs": [],
   "source": [
    "# error observed about tesseract installation in path\n",
    "\n",
    "# tessract installation in computer path\n",
    "pytesseract.pytesseract.tesseract_cmd = r'C:\\Program Files\\Tesseract-OCR\\tesseract.exe'"
   ]
  },
  {
   "cell_type": "code",
   "execution_count": 3,
   "id": "c87e0e8e",
   "metadata": {},
   "outputs": [],
   "source": [
    "# the game environment\n",
    "class Flappy(Env):\n",
    "    def __init__(self):\n",
    "        super().__init__()\n",
    "        self.action_space = spaces.Discrete(2)\n",
    "        self.observation_space = spaces.Box(low=0, high=255,\n",
    "                                            shape=(1, 100, 150),\n",
    "                                            dtype=np.uint8)\n",
    "        self.cap = mss.mss()\n",
    "        self.game_location = {'top':135, 'left':280, 'width':400, 'height':600}\n",
    "        self.done_location = {'top':230, 'left':330, 'width':300, 'height':70}\n",
    "        \n",
    "    def reset(self):\n",
    "        pydirectinput.click(500,500)\n",
    "        time.sleep(2)\n",
    "        pydirectinput.press(\"space\")\n",
    "        \n",
    "        return self.get_observation()\n",
    "    \n",
    "    def step(self, action):\n",
    "        action_map = {\n",
    "            0:\"no_op\",\n",
    "            1:\"space\"\n",
    "        }\n",
    "        pydirectinput.press(action_map[action])\n",
    "        done = self.get_done()\n",
    "        observation = self.get_observation()\n",
    "        reward = 1\n",
    "        info = {}\n",
    "        \n",
    "        return observation, reward, done, info\n",
    "#     state of the environment in form of pictures\n",
    "    def get_observation(self):\n",
    "        raw_image = np.array(self.cap.grab(self.game_location))[:,:,:3]\n",
    "        \n",
    "        preprocess = cv2.cvtColor(raw_image, cv2.COLOR_BGR2GRAY)\n",
    "        \n",
    "        resize = cv2.resize(preprocess, (150,100))\n",
    "        \n",
    "        channel = np.reshape(resize, (1, 100, 150))\n",
    "        \n",
    "        return channel\n",
    "    \n",
    "#     close the windows\n",
    "    def close(self):\n",
    "        cv2.destroyAllWindows()\n",
    "        \n",
    "#     get the done image\n",
    "    def get_done(self):\n",
    "        done_image = np.array(self.cap.grab(self.done_location))[:,:,:3]\n",
    "        gray_image = cv2.cvtColor(done_image, cv2.COLOR_BGR2GRAY)\n",
    "        done = False\n",
    "#         game_over = 'i Te\\n'\n",
    "        game_over = ''\n",
    "        image_string = pytesseract.image_to_string(gray_image)\n",
    "        if image_string is game_over:\n",
    "            print(image_string)\n",
    "            done = True\n",
    "            \n",
    "        return done\n",
    "        "
   ]
  },
  {
   "cell_type": "code",
   "execution_count": 17,
   "id": "b10e3ed7",
   "metadata": {},
   "outputs": [
    {
     "data": {
      "text/plain": [
       "''"
      ]
     },
     "execution_count": 17,
     "metadata": {},
     "output_type": "execute_result"
    }
   ],
   "source": [
    "cap = mss.mss()\n",
    "done_location = {'top':230, 'left':330, 'width':300, 'height':70}\n",
    "done_image = np.array(cap.grab(done_location))[:,:,:3]\n",
    "# gray_image = cv2.cvtColor(done_image, cv2.COLOR_BGR2GRAY)\n",
    "\n",
    "image_string = pytesseract.image_to_string(done_image)\n",
    " \n",
    "# plt.imshow(done_image)\n",
    "image_string"
   ]
  },
  {
   "cell_type": "code",
   "execution_count": 5,
   "id": "7bc34252",
   "metadata": {},
   "outputs": [],
   "source": [
    "# initialise the game environment\n",
    "game = Flappy()"
   ]
  },
  {
   "cell_type": "code",
   "execution_count": null,
   "id": "764da13f",
   "metadata": {},
   "outputs": [],
   "source": []
  },
  {
   "cell_type": "code",
   "execution_count": 6,
   "id": "11d9a258",
   "metadata": {},
   "outputs": [
    {
     "data": {
      "text/plain": [
       "array([[[255, 255, 255, ..., 231, 128, 231],\n",
       "        [255, 255, 255, ..., 231, 231, 231],\n",
       "        [255, 255, 255, ..., 231, 231, 231],\n",
       "        ...,\n",
       "        [255, 255, 255, ..., 200, 134, 123],\n",
       "        [255, 255, 255, ..., 231, 184, 231],\n",
       "        [255, 255, 255, ..., 231, 231, 231]]], dtype=uint8)"
      ]
     },
     "execution_count": 6,
     "metadata": {},
     "output_type": "execute_result"
    }
   ],
   "source": [
    "game.reset()"
   ]
  },
  {
   "cell_type": "code",
   "execution_count": 7,
   "id": "f8ca2483",
   "metadata": {},
   "outputs": [],
   "source": [
    "game.close()"
   ]
  },
  {
   "cell_type": "code",
   "execution_count": 16,
   "id": "60b280dd",
   "metadata": {},
   "outputs": [
    {
     "data": {
      "text/plain": [
       "<matplotlib.image.AxesImage at 0x1eb7dcdfcc8>"
      ]
     },
     "execution_count": 16,
     "metadata": {},
     "output_type": "execute_result"
    },
    {
     "data": {
      "image/png": "[encoded data removed]",
      "text/plain": [
       "<Figure size 640x480 with 1 Axes>"
      ]
     },
     "metadata": {},
     "output_type": "display_data"
    }
   ],
   "source": [
    "plt.imshow(game.get_observation()[0])"
   ]
  },
  {
   "cell_type": "code",
   "execution_count": 9,
   "id": "08ca95e3",
   "metadata": {},
   "outputs": [],
   "source": [
    "# creating the callback class\n",
    "class TrainAndLoggingCallback(BaseCallback):\n",
    "    def __init__(self, check_freq, save_path, verbose=1):\n",
    "        super().__init__(TrainAndLoggingCallback)\n",
    "        self.check_freq = check_freq\n",
    "        self.save_path = save_path\n",
    "        \n",
    "    def _init_callback(self):\n",
    "        if self.save_path is not None:\n",
    "            os.makedirs(self.save_path, exist_ok=True)\n",
    "\n",
    "    def _on_step(self):\n",
    "        if self.n_calls % self.check_freq == 0:\n",
    "            model_path = os.path.join(self.save_path, 'best model_{}'.format(self.n_calls))\n",
    "            self.model.save(model_path)\n",
    "        return True"
   ]
  },
  {
   "cell_type": "code",
   "execution_count": 10,
   "id": "696dc3c6",
   "metadata": {},
   "outputs": [],
   "source": [
    "# creating log and checkpoint directory\n",
    "log_dir = './logs/'\n",
    "checkpoint_dir = './train/'"
   ]
  },
  {
   "cell_type": "code",
   "execution_count": 11,
   "id": "a89f1a45",
   "metadata": {},
   "outputs": [],
   "source": [
    "# initialising the callback class\n",
    "callback = TrainAndLoggingCallback(check_freq=1000, save_path=checkpoint_dir)"
   ]
  },
  {
   "cell_type": "code",
   "execution_count": 12,
   "id": "eb583ea1",
   "metadata": {},
   "outputs": [
    {
     "name": "stdout",
     "output_type": "stream",
     "text": [
      "Using cpu device\n",
      "Wrapping the env with a `Monitor` wrapper\n",
      "Wrapping the env in a DummyVecEnv.\n"
     ]
    }
   ],
   "source": [
    "# setting the policy\n",
    "agent = DQN(\"CnnPolicy\", game, tensorboard_log=log_dir, verbose=1, buffer_size=100000, learning_starts=1000)"
   ]
  },
  {
   "cell_type": "code",
   "execution_count": 13,
   "id": "1c7e36fa",
   "metadata": {},
   "outputs": [],
   "source": [
    "env_checker.check_env(game)"
   ]
  },
  {
   "cell_type": "code",
   "execution_count": 15,
   "id": "2ced3d4e",
   "metadata": {},
   "outputs": [],
   "source": [
    "# agent.learn(total_timesteps=5000, callback=callback)"
   ]
  },
  {
   "cell_type": "code",
   "execution_count": null,
   "id": "66a3c789",
   "metadata": {},
   "outputs": [],
   "source": [
    "obs = game.reset()"
   ]
  },
  {
   "cell_type": "code",
   "execution_count": null,
   "id": "5154738b",
   "metadata": {},
   "outputs": [],
   "source": [
    "# loading the trained model\n",
    "agent.load(\"train/best model_7000.zip\")"
   ]
  },
  {
   "cell_type": "code",
   "execution_count": null,
   "id": "f508678f",
   "metadata": {},
   "outputs": [],
   "source": [
    "# test the prediction\n",
    "action, _ = agent.predict(obs)\n",
    "print(action)"
   ]
  },
  {
   "cell_type": "code",
   "execution_count": null,
   "id": "f9561015",
   "metadata": {},
   "outputs": [],
   "source": [
    "for episodes in range(10):\n",
    "    obs = game.reset()\n",
    "    done = False\n",
    "    total_reward = 0\n",
    "    \n",
    "    while not done:\n",
    "        action, _ = model.predict(obs)\n",
    "        obs, reward, done, info = game.step(int(action))\n",
    "        total_reward += reward\n",
    "        \n",
    "    print(f'total reward for episode {episodes} is {total_reward}')"
   ]
  },
  {
   "cell_type": "code",
   "execution_count": null,
   "id": "5b80649b",
   "metadata": {},
   "outputs": [],
   "source": []
  },
  {
   "cell_type": "code",
   "execution_count": null,
   "id": "a4f4f95b",
   "metadata": {},
   "outputs": [],
   "source": []
  }
 ],
 "metadata": {
  "kernelspec": {
   "display_name": "dyno_ai",
   "language": "python",
   "name": "dyno_ai"
  },
  "language_info": {
   "codemirror_mode": {
    "name": "ipython",
    "version": 3
   },
   "file_extension": ".py",
   "mimetype": "text/x-python",
   "name": "python",
   "nbconvert_exporter": "python",
   "pygments_lexer": "ipython3",
   "version": "3.7.4"
  }
 },
 "nbformat": 4,
 "nbformat_minor": 5
}
